{
 "cells": [
  {
   "cell_type": "markdown",
   "metadata": {},
   "source": [
    "# Introduction to Python Programming\n",
    "\n",
    "Problem solving is the most important skill that everyone should learn and practice. The process of learning to program (especially using Python) is an excellent opportunity to practice problem-solving skills. \n",
    "\n",
    "Extended readings: \n",
    "\n",
    "- http://www.huffingtonpost.com/ken-watanabe/the-importance-of-problem_b_190514.html\n",
    "- http://avc.com/2011/10/program-or-be-programmed/\n",
    "\n",
    "\n",
    "## What is a program?\n",
    "\n",
    "A program is a sequence of instructions that specifies how to perform a computation. The computation might be something mathematical, such as solving a system of equations or finding the roots of a polynomial, but it can also be a symbolic computation, such as searching and replacing text in a document or something graphical, like processing an image or\n",
    "playing a video.\n",
    "\n",
    "Q: What are the basic elements of a program?\n",
    "\n",
    "\n",
    "## Why Python?\n",
    "\n",
    "- Python is a general-purpose, high-level programming language designed by Guido van Rossum.\n",
    "- Python is really (yes, really) easy to learn.\n",
    "- Lot of libraries: network, files, GUI, database...\n",
    "- Python is simple and elegant.\n",
    "\n",
    "Extended readings:\n",
    "\n",
    "- https://docs.python.org/3/tutorial/appetite.html\n",
    "- The Zen of Python. https://www.python.org/dev/peps/pep-0020/\n",
    "\n",
    "\n",
    "### Why Python 3?\n",
    "Short version: Python 2.x is legacy, Python 3.x is the present and future of the language.\n",
    "\n",
    "Actually Python 2 and Python 3 are very similar, so if you learn one, it is easy to switch to the other. In fact, there are only a few differences you will encounter as a beginner.\n",
    "\n",
    "Extended readings: https://wiki.python.org/moin/Python2orPython3\n",
    "\n",
    "\n",
    "## Python Installation\n",
    "\n",
    "Go to https://www.python.org/downloads/. Select the latest version of Python (currently Python 3.5.2), click 'download'.\n",
    "- Windows: Download the windows MSI installer for either x86 or x86-64, depending on which version of Windows you are running. \n",
    "- Mac OS: Download and install the Mac Installer disk image from the website.\n",
    "Before clicking 'Install Now', check 'Add Python 3.5 to PATH'.\n",
    "\n",
    "\n",
    "### Python interpretor\n",
    "\n",
    "The Python interpreter is a program that reads and executes Python code. Depending on your environment, you might start the interpreter by clicking on an icon, or by typing 'python' on a command line. When it starts, you should see output like this:\n",
    "\n",
    "![](python_promt.png)\n",
    "\n",
    "Check the version number.\n",
    "\n",
    "The last line is a prompt that indicates that the interpreter is ready for you to enter code. If you type a line of code and hit Enter, the interpreter displays the result:\n",
    "\n",
    "![](intro_2.png)\n",
    "\n",
    "Now you’re ready to get started.\n",
    "\n",
    "\n",
    "### Using IDLE\n",
    "\n",
    "IDLE is the standard  Python development environment. Its name is an acronym of \"Integrated DeveLopment environment\". It works well on both Unix and Windows platforms. It has a Python shell window, which gives you access to the Python interactive mode. It also has a file editor that letsou create and edit existing Python source files.\n",
    "\n",
    "\n",
    "## Your first Python program\n",
    "\n",
    "Before starting this exciting journey, I want you to read the following sentences three times:\n",
    "\n",
    "** DO NOT copy/paste other people's code. Type it out! **\n",
    "\n",
    "Now, start Python interpreter or IDLE.\n",
    "\n",
    "Traditionally, the first program you write in a new language is called “Hello, World!” because all it does is display the words “Hello, World!”. In Python, it looks like this:"
   ]
  },
  {
   "cell_type": "code",
   "execution_count": null,
   "metadata": {
    "collapsed": false
   },
   "outputs": [],
   "source": [
    "print('Hello, World')"
   ]
  },
  {
   "cell_type": "markdown",
   "metadata": {},
   "source": [
    "Congratulations! You just finished your first Python program!\n",
    "\n",
    "This is an example of a print statement, although it doesn’t actually print anything on paper. It displays a result on the screen. \n",
    "\n",
    "What are the parentheses for? What about quotation marks?\n",
    "\n",
    "Let's try something else.\n"
   ]
  },
  {
   "cell_type": "code",
   "execution_count": null,
   "metadata": {
    "collapsed": false
   },
   "outputs": [],
   "source": [
    "1+1"
   ]
  },
  {
   "cell_type": "code",
   "execution_count": null,
   "metadata": {
    "collapsed": true
   },
   "outputs": [],
   "source": [
    "exit()"
   ]
  },
  {
   "cell_type": "markdown",
   "metadata": {},
   "source": [
    "Oops, where was the code? How can I display 'Hello, World' again?\n",
    "\n",
    "### Use text editor\n",
    "\n",
    "You can use Notepad to write Python program. Remember to save the text file as .py file. I recommend Visual Studio Code as your default Python program editor. \n",
    "\n",
    "https://code.visualstudio.com/\n",
    "\n",
    "Why VS Code?\n",
    "\n",
    "- Highlighting syntax. \n",
    "- Built-in Git. You need an GitHub account. https://github.com/\n",
    "- Running and debugging using Python extension. https://marketplace.visualstudio.com/items?itemName=donjayamanne.python\n",
    "\n",
    "\n",
    "Create a file <code>hello.py</code>. (Naming convention: modules (filenames) should have short, all-lowercase names, and they can contain underscores.) \n",
    "\n",
    "Type in the following code (don't forget to change to your first name):"
   ]
  },
  {
   "cell_type": "code",
   "execution_count": null,
   "metadata": {
    "collapsed": false
   },
   "outputs": [],
   "source": [
    "print('Hello, Zhi')"
   ]
  },
  {
   "cell_type": "markdown",
   "metadata": {},
   "source": [
    "Then execute this Python program in Command Prompt.\n",
    "\n",
    "![run_hello](run_hello.png)\n",
    "\n",
    "Cool! Greeting from your machine.\n",
    "\n",
    "However, if we reate a file <code>calc.py</code> using the below code:"
   ]
  },
  {
   "cell_type": "code",
   "execution_count": null,
   "metadata": {
    "collapsed": false
   },
   "outputs": [],
   "source": [
    "46 + 37 + 38"
   ]
  },
  {
   "cell_type": "markdown",
   "metadata": {},
   "source": [
    "What do we get after executing this program?\n",
    "\n",
    "<code>python calc.py</code>"
   ]
  },
  {
   "cell_type": "markdown",
   "metadata": {},
   "source": [
    "Nothing.\n",
    "\n",
    "We need to modify the code as below:"
   ]
  },
  {
   "cell_type": "code",
   "execution_count": null,
   "metadata": {
    "collapsed": false
   },
   "outputs": [],
   "source": [
    "print(46 + 37 + 38)"
   ]
  },
  {
   "cell_type": "markdown",
   "metadata": {},
   "source": [
    "Re-run the file. I guess you get the correct result.\n",
    "\n",
    "\n",
    "\n",
    "## Arithmetic operators\n",
    "\n",
    "Try other operators: -,* and /."
   ]
  },
  {
   "cell_type": "code",
   "execution_count": null,
   "metadata": {
    "collapsed": false
   },
   "outputs": [],
   "source": [
    "2016-1996"
   ]
  },
  {
   "cell_type": "code",
   "execution_count": null,
   "metadata": {
    "collapsed": false
   },
   "outputs": [],
   "source": [
    "15 / 3"
   ]
  },
  {
   "cell_type": "markdown",
   "metadata": {},
   "source": [
    "Q. Why is it 5.0 instead of 5?\n",
    "\n",
    "Finally, the operator ** performs exponentiation; that is, it raises a number to a power:"
   ]
  },
  {
   "cell_type": "code",
   "execution_count": null,
   "metadata": {
    "collapsed": false
   },
   "outputs": [],
   "source": [
    "2**6"
   ]
  },
  {
   "cell_type": "markdown",
   "metadata": {},
   "source": [
    "## Exercises\n",
    "\n",
    "### Exercise 1 \n",
    "\n",
    "Whenever you are experimenting with a new feature, you should try to make mistakes. For example, in the “Hello, world!” program, what happens if you leave out one of the quotation marks? What if you leave out both? What if you spell print wrong?\n",
    "\n",
    "1. In a print statement, what happens if you leave out one of the parentheses, or both?\n",
    "2. If you are trying to print a string, what happens if you leave out one of the quotation marks, or both?\n",
    "3. You can use a minus sign to make a negative number like -2. What happens if you put a plus sign before a number? What about 2++2?\n",
    "4. In math notation, leading zeros are ok, as in 02. What happens if you try this in Python?\n",
    "5. What happens if you have two values with no operator between them?\n",
    "\n",
    "\n",
    "### Exercise 2\n",
    "\n",
    "Rewrite <code>calc.py</code> to solve the following questions.\n",
    "\n",
    "1. How many seconds are there in 42 minutes 42 seconds?\n",
    "2. How many miles are there in 10 kilometers? Hint: there are 1.61 kilometers in a mile.\n",
    "3. If you run a 10 kilometer race in 42 minutes 42 seconds, what is your average pace (time per mile in minutes and seconds)? What is your average speed in miles per hour?"
   ]
  }
 ],
 "metadata": {
  "anaconda-cloud": {},
  "kernelspec": {
   "display_name": "Python [conda root]",
   "language": "python",
   "name": "conda-root-py"
  },
  "language_info": {
   "codemirror_mode": {
    "name": "ipython",
    "version": 3
   },
   "file_extension": ".py",
   "mimetype": "text/x-python",
   "name": "python",
   "nbconvert_exporter": "python",
   "pygments_lexer": "ipython3",
   "version": "3.5.2"
  }
 },
 "nbformat": 4,
 "nbformat_minor": 0
}
